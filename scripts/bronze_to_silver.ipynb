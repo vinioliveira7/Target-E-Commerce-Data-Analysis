{
 "cells": [
  {
   "cell_type": "code",
   "execution_count": 52,
   "metadata": {},
   "outputs": [],
   "source": [
    "import pandas as pd\n",
    "from unidecode import unidecode"
   ]
  },
  {
   "cell_type": "code",
   "execution_count": 2,
   "metadata": {},
   "outputs": [],
   "source": [
    "bronze_layer_path = \"..\\\\bronze\\\\\" \n",
    "silver_layer_path = \"..\\\\silver\\\\\""
   ]
  },
  {
   "cell_type": "markdown",
   "metadata": {},
   "source": [
    "**customers.csv transformation**"
   ]
  },
  {
   "cell_type": "code",
   "execution_count": 9,
   "metadata": {},
   "outputs": [],
   "source": [
    "csv_name = \"customers.csv\"\n",
    "df = pd.read_csv(bronze_layer_path + csv_name)\n",
    "\n",
    "unusable_columns = [\"customer_city\", \"customer_state\"]\n",
    "\n",
    "# Drop unusable columns \n",
    "df = df.drop(columns=unusable_columns)\n",
    "\n",
    "df_without_duplicates = df.drop_duplicates(subset=\"customer_id\")\n",
    "\n",
    "df_without_duplicates.to_csv(silver_layer_path + (csv_name),index=False)"
   ]
  },
  {
   "cell_type": "markdown",
   "metadata": {},
   "source": [
    "**geolocation.csv transformation**"
   ]
  },
  {
   "cell_type": "code",
   "execution_count": 5,
   "metadata": {},
   "outputs": [],
   "source": [
    "csv_name = \"geolocation.csv\"\n",
    "df = pd.read_csv(bronze_layer_path + csv_name)\n",
    "\n",
    "unusable_columns = [\"geolocation_lat\", \"geolocation_lng\"]\n",
    "\n",
    "# Drop unusable columns \n",
    "df = df.drop(columns=unusable_columns)\n",
    "\n",
    "# Remove special characters\n",
    "df['geolocation_city'] = df['geolocation_city'].apply(unidecode)\n",
    "\n",
    "df_without_duplicates = df.drop_duplicates(subset=\"geolocation_zip_code_prefix\")\n",
    "\n",
    "df_without_duplicates.to_csv(silver_layer_path + (csv_name),index=False)"
   ]
  },
  {
   "cell_type": "markdown",
   "metadata": {},
   "source": [
    "**order_items.csv transformation**"
   ]
  },
  {
   "cell_type": "code",
   "execution_count": 9,
   "metadata": {},
   "outputs": [],
   "source": [
    "csv_name = \"order_items.csv\"\n",
    "df = pd.read_csv(bronze_layer_path + csv_name)\n",
    "\n",
    "df = df.dropna(subset=['price', 'freight_value'])\n",
    "\n",
    "df.to_csv(silver_layer_path + (csv_name),index=False)"
   ]
  },
  {
   "cell_type": "markdown",
   "metadata": {},
   "source": [
    "**orders.csv transformation**"
   ]
  },
  {
   "cell_type": "code",
   "execution_count": 11,
   "metadata": {},
   "outputs": [],
   "source": [
    "csv_name = \"orders.csv\"\n",
    "df = pd.read_csv(bronze_layer_path + csv_name)\n",
    "\n",
    "df.to_csv(silver_layer_path + (csv_name),index=False)"
   ]
  },
  {
   "cell_type": "markdown",
   "metadata": {},
   "source": [
    "**payments.csv transformation**"
   ]
  },
  {
   "cell_type": "code",
   "execution_count": 14,
   "metadata": {},
   "outputs": [],
   "source": [
    "csv_name = \"payments.csv\"\n",
    "df = pd.read_csv(bronze_layer_path + csv_name)\n",
    "\n",
    "df.to_csv(silver_layer_path + (csv_name),index=False)\n"
   ]
  },
  {
   "cell_type": "markdown",
   "metadata": {},
   "source": [
    "**products.csv transformation**"
   ]
  },
  {
   "cell_type": "code",
   "execution_count": 47,
   "metadata": {},
   "outputs": [],
   "source": [
    "csv_name = \"products.csv\"\n",
    "translator = Translator()\n",
    "df = pd.read_csv(bronze_layer_path + csv_name)\n",
    "\n",
    "unusable_columns = [\"product_name_length\", \"product_description_length\", \"product_photos_qty\", \"product_weight_g\", \"product_length_cm\", \"product_height_cm\", \"product_width_cm\"]\n",
    "\n",
    "# Drop unusable columns \n",
    "df = df.drop(columns=unusable_columns)\n",
    "\n",
    "df['product category'] = df['product category'].fillna('uncategorized').str.lower()\n",
    "\n",
    "df.to_csv(silver_layer_path + (csv_name),index=False)"
   ]
  },
  {
   "cell_type": "markdown",
   "metadata": {},
   "source": [
    "**sellers.csv transformation**"
   ]
  },
  {
   "cell_type": "code",
   "execution_count": 51,
   "metadata": {},
   "outputs": [],
   "source": [
    "csv_name = \"sellers.csv\"\n",
    "df = pd.read_csv(bronze_layer_path + csv_name)\n",
    "\n",
    "unusable_columns = [\"seller_city\", \"seller_state\"]\n",
    "\n",
    "# Drop unusable columns \n",
    "df = df.drop(columns=unusable_columns)\n",
    "\n",
    "df.to_csv(silver_layer_path + (csv_name),index=False)"
   ]
  }
 ],
 "metadata": {
  "kernelspec": {
   "display_name": "base",
   "language": "python",
   "name": "python3"
  },
  "language_info": {
   "codemirror_mode": {
    "name": "ipython",
    "version": 3
   },
   "file_extension": ".py",
   "mimetype": "text/x-python",
   "name": "python",
   "nbconvert_exporter": "python",
   "pygments_lexer": "ipython3",
   "version": "3.12.7"
  }
 },
 "nbformat": 4,
 "nbformat_minor": 2
}
